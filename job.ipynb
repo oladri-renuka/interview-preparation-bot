{
 "cells": [
  {
   "cell_type": "code",
   "execution_count": null,
   "metadata": {},
   "outputs": [
    {
     "name": "stderr",
     "output_type": "stream",
     "text": [
      "/tmp/ipykernel_36135/2916875354.py:3: LangChainDeprecationWarning: The class `AzureChatOpenAI` was deprecated in LangChain 0.0.10 and will be removed in 1.0. An updated version of the class exists in the :class:`~langchain-openai package and should be used instead. To use it run `pip install -U :class:`~langchain-openai` and import as `from :class:`~langchain_openai import AzureChatOpenAI``.\n",
      "  llm = AzureChatOpenAI(\n"
     ]
    }
   ],
   "source": [
    "from langchain.chat_models import AzureChatOpenAI\n",
    "\n",
    "llm = AzureChatOpenAI(\n",
    "    deployment_name=\"your-deployment-name\",\n",
    "    openai_api_version=\"2023-07-01-preview\",\n",
    "    openai_api_key=\"your-api-key\",\n",
    "    azure_endpoint=\"your-azure-endpoint\"\n",
    ")"
   ]
  },
  {
   "cell_type": "code",
   "execution_count": null,
   "metadata": {},
   "outputs": [],
   "source": [
    "from typing import Literal\n",
    "from typing_extensions import TypedDict\n",
    "from langgraph.graph import MessagesState, END\n",
    "from langgraph.types import Command\n",
    "from langchain_core.messages import HumanMessage, AIMessage\n",
    "from langgraph.graph import StateGraph, START\n",
    "from langgraph.prebuilt import create_react_agent\n",
    "from langchain.prompts import PromptTemplate\n",
    "from langchain.output_parsers import ResponseSchema, StructuredOutputParser\n",
    "from langchain_core.tools import tool\n",
    "import json"
   ]
  },
  {
   "cell_type": "code",
   "execution_count": 3,
   "metadata": {},
   "outputs": [],
   "source": [
    "@tool\n",
    "def generate_questions(job_title: str) -> str:\n",
    "    \"\"\"Generates 5 interview questions for a given job title.\"\"\"\n",
    "    prompt = PromptTemplate.from_template(\n",
    "        \"Generate 5 interview questions for a {job_title} role.\"\n",
    "    )\n",
    "    return llm.invoke(prompt.format(job_title=job_title)).content\n"
   ]
  },
  {
   "cell_type": "code",
   "execution_count": 4,
   "metadata": {},
   "outputs": [],
   "source": [
    "@tool\n",
    "def evaluate_answer(question: str, answer: str) -> dict:\n",
    "    \"\"\"Evaluates an interview answer for correctness, clarity, and completeness.\"\"\"\n",
    "    prompt = PromptTemplate.from_template(\n",
    "        \"\"\"Evaluate the following interview response on a scale of 1-10 for:\n",
    "        - Correctness\n",
    "        - Clarity\n",
    "        - Completeness\n",
    "        \n",
    "        Question: {question}\n",
    "        Answer: {answer}\n",
    "\n",
    "        Provide a JSON output in this format:\n",
    "        {{\n",
    "            \"correctness\": <score>,\n",
    "            \"clarity\": <score>,\n",
    "            \"completeness\": <score>\n",
    "        }}\n",
    "        \"\"\"\n",
    "    )\n",
    "\n",
    "    structured_parser = StructuredOutputParser.from_response_schemas([\n",
    "        ResponseSchema(name=\"correctness\", description=\"Correctness score\"),\n",
    "        ResponseSchema(name=\"clarity\", description=\"Clarity score\"),\n",
    "        ResponseSchema(name=\"completeness\", description=\"Completeness score\"),\n",
    "    ])\n",
    "\n",
    "    llm_response = llm.invoke(prompt.format(question=question, answer=answer))\n",
    "    \n",
    "    try:\n",
    "        return json.loads(llm_response.content)  # Convert JSON string to dict\n",
    "    except json.JSONDecodeError:\n",
    "        return {\"correctness\": 5, \"clarity\": 5, \"completeness\": 5}  # Default values\n"
   ]
  },
  {
   "cell_type": "code",
   "execution_count": 5,
   "metadata": {},
   "outputs": [],
   "source": [
    "@tool\n",
    "def provide_feedback(question: str, answer: str) -> str:\n",
    "    \"\"\"Provides constructive feedback based on evaluation scores for an interview answer.\"\"\"\n",
    "    eval_scores = evaluate_answer(question, answer)\n",
    "\n",
    "    prompt = PromptTemplate.from_template(\n",
    "        \"\"\"Based on the following interview response evaluation scores:\n",
    "        - Correctness: {correctness}\n",
    "        - Clarity: {clarity}\n",
    "        - Completeness: {completeness}\n",
    "        \n",
    "        Provide constructive feedback and suggestions for improvement.\n",
    "\n",
    "        Question: {question}\n",
    "        Answer: {answer}\n",
    "        \"\"\"\n",
    "    )\n",
    "\n",
    "    return llm.invoke(prompt.format(**eval_scores, question=question, answer=answer)).content\n"
   ]
  },
  {
   "cell_type": "code",
   "execution_count": 6,
   "metadata": {},
   "outputs": [],
   "source": [
    "class Router(TypedDict):\n",
    "    \"\"\"Determines the next agent to call.\"\"\"\n",
    "    next: Literal[\"question_generator\", \"answer_evaluator\", \"feedback_provider\", \"FINISH\"]\n",
    "\n",
    "system_prompt = (\n",
    "    \"You are a supervisor managing the following workers: Question Generator, \"\n",
    "    \"Answer Evaluator, and Feedback Provider. Based on the user’s input, \"\n",
    "    \"route the request to the appropriate agent. When all tasks are completed, return 'FINISH'.\"\n",
    ")"
   ]
  },
  {
   "cell_type": "code",
   "execution_count": 7,
   "metadata": {},
   "outputs": [],
   "source": [
    "# Define State\n",
    "class State(MessagesState):\n",
    "    next: str\n",
    "\n",
    "# Supervisor Node (Routing)\n",
    "def supervisor_node(state: State) -> Command[Literal[\"question_generator\", \"answer_evaluator\", \"feedback_provider\", \"__end__\"]]:\n",
    "    messages = [{\"role\": \"system\", \"content\": system_prompt}] + state[\"messages\"]\n",
    "    response = llm.invoke(messages)\n",
    "\n",
    "    # Fixing the previous error (response is an AIMessage object, not a dict)\n",
    "    response_content = response.content.strip().lower()\n",
    "    \n",
    "    if \"question\" in response_content:\n",
    "        goto = \"question_generator\"\n",
    "    elif \"evaluate\" in response_content:\n",
    "        goto = \"answer_evaluator\"\n",
    "    elif \"feedback\" in response_content:\n",
    "        goto = \"feedback_provider\"\n",
    "    else:\n",
    "        goto = END\n",
    "\n",
    "    return Command(goto=goto, update={\"next\": goto})"
   ]
  },
  {
   "cell_type": "code",
   "execution_count": 8,
   "metadata": {},
   "outputs": [],
   "source": [
    "# Question Node\n",
    "def question_node(state: State) -> Command[Literal[\"supervisor\"]]:\n",
    "    job_title = state[\"messages\"][-1].content  # Extract job title\n",
    "    result = generate_questions(job_title)  # Call the function manually\n",
    "    return Command(update={\"messages\": [HumanMessage(content=result, name=\"question_generator\")]}, goto=\"supervisor\")"
   ]
  },
  {
   "cell_type": "code",
   "execution_count": 9,
   "metadata": {},
   "outputs": [],
   "source": [
    "# Evaluation Node\n",
    "def evaluation_node(state: State) -> Command[Literal[\"supervisor\"]]:\n",
    "    # Extracting question and answer from previous messages\n",
    "    messages = state[\"messages\"]\n",
    "    question = messages[-2].content\n",
    "    answer = messages[-1].content\n",
    "\n",
    "    result = evaluate_answer(question, answer)  # Call the function manually\n",
    "    return Command(update={\"messages\": [HumanMessage(content=str(result), name=\"answer_evaluator\")]}, goto=\"supervisor\")"
   ]
  },
  {
   "cell_type": "code",
   "execution_count": 10,
   "metadata": {},
   "outputs": [],
   "source": [
    "# Feedback Node\n",
    "def feedback_node(state: State) -> Command[Literal[\"supervisor\"]]:\n",
    "    messages = state[\"messages\"]\n",
    "    question = messages[-3].content\n",
    "    answer = messages[-2].content\n",
    "\n",
    "    result = provide_feedback(question, answer)  # Call the function manually\n",
    "    return Command(update={\"messages\": [HumanMessage(content=result, name=\"feedback_provider\")]}, goto=\"supervisor\")"
   ]
  },
  {
   "cell_type": "code",
   "execution_count": 11,
   "metadata": {},
   "outputs": [],
   "source": [
    "# Graph Construction\n",
    "builder = StateGraph(State)\n",
    "builder.add_edge(START, \"supervisor\")\n",
    "builder.add_node(\"supervisor\", supervisor_node)\n",
    "builder.add_node(\"question_generator\", question_node)\n",
    "builder.add_node(\"answer_evaluator\", evaluation_node)\n",
    "builder.add_node(\"feedback_provider\", feedback_node)\n",
    "\n",
    "# Compile Graph\n",
    "graph = builder.compile()"
   ]
  },
  {
   "cell_type": "code",
   "execution_count": 12,
   "metadata": {},
   "outputs": [
    {
     "data": {
      "image/png": "[encoded data removed]",
      "text/plain": [
       "<IPython.core.display.Image object>"
      ]
     },
     "metadata": {},
     "output_type": "display_data"
    }
   ],
   "source": [
    "from IPython.display import display, Image\n",
    "\n",
    "display(Image(graph.get_graph().draw_mermaid_png()))"
   ]
  },
  {
   "cell_type": "code",
   "execution_count": null,
   "metadata": {},
   "outputs": [
    {
     "name": "stdout",
     "output_type": "stream",
     "text": [
      "{'supervisor': {'next': 'question_generator'}}\n",
      "----\n"
     ]
    },
    {
     "name": "stderr",
     "output_type": "stream",
     "text": [
      "/tmp/ipykernel_36135/398743952.py:4: LangChainDeprecationWarning: The method `BaseTool.__call__` was deprecated in langchain-core 0.1.47 and will be removed in 1.0. Use :meth:`~invoke` instead.\n",
      "  result = generate_questions(job_title)  # Call the function manually\n"
     ]
    },
    {
     "name": "stdout",
     "output_type": "stream",
     "text": [
      "{'question_generator': {'messages': [HumanMessage(content=\"Certainly! Below are five interview questions that you can prepare for a Data Scientist role. These questions cover a mix of technical, problem-solving, and conceptual aspects of data science:\\n\\n---\\n\\n### **1. Explain a Machine Learning Project You've Worked On**\\n   - **Follow-up Questions:**\\n     - What was the problem you were solving, and how did you approach it?\\n     - What algorithms and tools did you use, and why?\\n     - How did you measure the performance of your model?\\n     - What were the challenges, and how did you overcome them?\\n\\n---\\n\\n### **2. How Would You Handle Missing or Corrupted Data in a Dataset?**\\n   - **Key Points to Cover:**\\n     - Data cleaning techniques (e.g., imputation, dropping rows/columns).\\n     - Identifying patterns in missing data.\\n     - Trade-offs between different approaches and their impact on the analysis.\\n\\n---\\n\\n### **3. How Do You Choose the Right Machine Learning Algorithm for a Given Problem?**\\n   - **Considerations:**\\n     - Type of problem (classification, regression, clustering, etc.).\\n     - Size and quality of the dataset.\\n     - Computational efficiency and interpretability.\\n     - Overfitting vs. underfitting and model complexity.\\n\\n---\\n\\n### **4. How Do You Explain Complex Data Science Concepts to Non-Technical Stakeholders?**\\n   - **Example Scenario:**\\n     - Imagine you built a predictive model. How would you explain the results and recommendations to a business leader with no technical background?\\n   - **Focus On:**\\n     - Using analogies or visuals to simplify concepts.\\n     - Highlighting business impact rather than technical details.\\n\\n---\\n\\n### **5. How Would You Evaluate the Success of a Data Science Model?**\\n   - **Key Metrics and Techniques to Discuss:**\\n     - Performance metrics (e.g., accuracy, precision, recall, F1-score, RMSE, R-squared, etc.).\\n     - Business-specific outcomes (e.g., improved revenue, reduced churn).\\n     - Cross-validation and A/B testing.\\n     - Consideration of bias, fairness, and model interpretability.\\n\\n---\\n\\n### **Bonus Tip:**\\nBe prepared to solve coding or technical problems during the interview. Brush up on:\\n- Python (e.g., Pandas, NumPy, Scikit-learn).\\n- SQL for data manipulation.\\n- Data visualization tools (e.g., Matplotlib, Seaborn).\\n- Statistical concepts and hypothesis testing.\\n\\nGood luck with your preparation! Let me know if you'd like additional questions or resources.\", additional_kwargs={}, response_metadata={}, name='question_generator', id='6e56c020-f645-4b22-845e-13193c222d86')]}}\n",
      "----\n",
      "{'supervisor': {'next': 'question_generator'}}\n",
      "----\n"
     ]
    }
   ],
   "source": [
    "# Run Execution\n",
    "for s in graph.stream({\"messages\": [(\"user\", \"I am preparing for a Data Scientist interview provide with few questions.\")] }):\n",
    "    print(s)\n",
    "    print(\"----\")"
   ]
  },
  {
   "cell_type": "code",
   "execution_count": null,
   "metadata": {},
   "outputs": [],
   "source": []
  }
 ],
 "metadata": {
  "kernelspec": {
   "display_name": "venv",
   "language": "python",
   "name": "python3"
  },
  "language_info": {
   "codemirror_mode": {
    "name": "ipython",
    "version": 3
   },
   "file_extension": ".py",
   "mimetype": "text/x-python",
   "name": "python",
   "nbconvert_exporter": "python",
   "pygments_lexer": "ipython3",
   "version": "3.10.16"
  }
 },
 "nbformat": 4,
 "nbformat_minor": 2
}
